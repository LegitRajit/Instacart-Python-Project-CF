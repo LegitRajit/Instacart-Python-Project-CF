{
 "cells": [
  {
   "cell_type": "markdown",
   "id": "e1384b4b-5585-41d7-946f-285c19dd98e8",
   "metadata": {},
   "source": [
    "# Table of Contents"
   ]
  },
  {
   "cell_type": "markdown",
   "id": "e533ee8b-fdd3-4187-b602-3f485be4e14d",
   "metadata": {},
   "source": [
    "01 Importing Libraries <br />\n",
    "02 Working with Python Data Types <br />"
   ]
  },
  {
   "cell_type": "markdown",
   "id": "b8b156cc-00c8-4717-b803-0fdd16ddcca7",
   "metadata": {},
   "source": [
    "# 01 Importing Libraries"
   ]
  },
  {
   "cell_type": "code",
   "execution_count": 2,
   "id": "b93f205a-e10e-4ac6-827a-3d19f64dff68",
   "metadata": {
    "tags": []
   },
   "outputs": [],
   "source": [
    "#Import Libraries\n",
    "import pandas as pd\n",
    "import numpy as np\n",
    "import os"
   ]
  },
  {
   "cell_type": "markdown",
   "id": "190c29b9-49b8-474a-a808-43dd2ec7240e",
   "metadata": {},
   "source": [
    "# 02 Working with Python Data Types"
   ]
  },
  {
   "cell_type": "code",
   "execution_count": 3,
   "id": "6f09e620-2e8f-499c-8f65-b9e0443c5bad",
   "metadata": {
    "tags": []
   },
   "outputs": [],
   "source": [
    "# Assigning numerical values to variables\n",
    "x = 25 \n",
    "y = 5\n",
    "z = 1"
   ]
  },
  {
   "cell_type": "code",
   "execution_count": 4,
   "id": "9e89ae98-9f72-4dd0-91ba-7bb77c992cb7",
   "metadata": {
    "tags": []
   },
   "outputs": [
    {
     "data": {
      "text/plain": [
       "100"
      ]
     },
     "execution_count": 4,
     "metadata": {},
     "output_type": "execute_result"
    }
   ],
   "source": [
    "# Doing basic math with variables\n",
    "x + x + x + x"
   ]
  },
  {
   "cell_type": "code",
   "execution_count": 5,
   "id": "a1b89ec6-9e5b-4f45-9d94-6ba1f0158dab",
   "metadata": {
    "tags": []
   },
   "outputs": [
    {
     "data": {
      "text/plain": [
       "100"
      ]
     },
     "execution_count": 5,
     "metadata": {},
     "output_type": "execute_result"
    }
   ],
   "source": [
    "# Doing basic math with variables\n",
    "x + x + x + x + y - z - z - z - z - z"
   ]
  },
  {
   "cell_type": "code",
   "execution_count": 6,
   "id": "0fbd9aeb-a926-47a1-9b48-67022887344e",
   "metadata": {
    "tags": []
   },
   "outputs": [
    {
     "data": {
      "text/plain": [
       "100"
      ]
     },
     "execution_count": 6,
     "metadata": {},
     "output_type": "execute_result"
    }
   ],
   "source": [
    "# Doing basic math with variables\n",
    "(x + x + x) + (y + y + y + y + y + y) - (z + z + z + z + z)"
   ]
  },
  {
   "cell_type": "code",
   "execution_count": 7,
   "id": "d3f8c3b5-b62c-4f10-ae59-9030099753f6",
   "metadata": {
    "tags": []
   },
   "outputs": [
    {
     "data": {
      "text/plain": [
       "2.08"
      ]
     },
     "execution_count": 7,
     "metadata": {},
     "output_type": "execute_result"
    }
   ],
   "source": [
    "# Doing basic division with new variables \"a\" and \"b\"\n",
    "a = 1.30\n",
    "b = .625\n",
    "a/b "
   ]
  },
  {
   "cell_type": "code",
   "execution_count": 8,
   "id": "77af7826-a3f4-40e4-9366-d1d21d2fdd82",
   "metadata": {
    "tags": []
   },
   "outputs": [
    {
     "data": {
      "text/plain": [
       "'Word'"
      ]
     },
     "execution_count": 8,
     "metadata": {},
     "output_type": "execute_result"
    }
   ],
   "source": [
    "# combining strings together\n",
    "c = 'Wo' \n",
    "d = 'rd'\n",
    "c + d"
   ]
  },
  {
   "cell_type": "code",
   "execution_count": 11,
   "id": "d86d98d6-94ae-4eb6-a09f-1dc29aa5b612",
   "metadata": {
    "tags": []
   },
   "outputs": [
    {
     "data": {
      "text/plain": [
       "'This is my first sentence for part 10 of task 4.2. This is my second sentence, Hello World!'"
      ]
     },
     "execution_count": 11,
     "metadata": {},
     "output_type": "execute_result"
    }
   ],
   "source": [
    "# combining strings together to form a sentence\n",
    "e = 'This is my first sentence for part 10 of task 4.2. '\n",
    "f = 'This is my second sentence, Hello World!'\n",
    "e + f"
   ]
  }
 ],
 "metadata": {
  "kernelspec": {
   "display_name": "Python 3 (ipykernel)",
   "language": "python",
   "name": "python3"
  },
  "language_info": {
   "codemirror_mode": {
    "name": "ipython",
    "version": 3
   },
   "file_extension": ".py",
   "mimetype": "text/x-python",
   "name": "python",
   "nbconvert_exporter": "python",
   "pygments_lexer": "ipython3",
   "version": "3.11.7"
  }
 },
 "nbformat": 4,
 "nbformat_minor": 5
}
